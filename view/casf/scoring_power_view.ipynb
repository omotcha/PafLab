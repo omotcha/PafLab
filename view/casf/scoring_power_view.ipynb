{
 "cells": [
  {
   "cell_type": "code",
   "execution_count": 1,
   "outputs": [
    {
     "data": {
      "text/plain": "               name      r    sd left_ci right_ci\n0         ΔVinaRF20  0.816  1.26   0.772    0.848\n1           X-Score  0.631  1.69   0.571    0.682\n2         X-ScoreHS  0.629  1.69   0.568    0.679\n3              ΔSAS  0.625  1.70   0.568    0.675\n4         X-ScoreHP  0.621  1.70   0.560    0.675\n5          ASP@GOLD  0.617  1.71   0.549    0.674\n6      ChemPLP@GOLD  0.614  1.72   0.543    0.671\n7         X-ScoreHM  0.609  1.73   0.545    0.662\n8     Autodock_Vina  0.604  1.73   0.539    0.659\n9     DrugScore2018  0.602  1.74   0.542    0.655\n10     DrugScoreCSD  0.596  1.75   0.533    0.649\n11          ASE@MOE  0.591  1.75   0.524    0.646\n12  ChemScore@SYBYL  0.590  1.76   0.513    0.651\n13          PLP1@DS  0.581  1.77   0.513    0.639\n14   ChemScore@GOLD  0.574  1.78   0.501    0.634\n15    G-Score@SYBYL  0.572  1.79   0.504    0.634\n16     Alpha-HB@MOE  0.569  1.79   0.497    0.628\n17          PLP2@DS  0.563  1.80   0.495    0.624\n18  Affinity-dG@MOE  0.552  1.81   0.478    0.611\n19     LigScore2@DS  0.540  1.83   0.473    0.600\n20    D-Score@SYBYL  0.531  1.84   0.460    0.594\n21         LUDI2@DS  0.526  1.85   0.454    0.587\n22    GlideScore-SP  0.513  1.89   0.434    0.580\n23         LUDI3@DS  0.502  1.88   0.432    0.563\n24  GBVI/WSA-dG@MOE  0.496  1.91   0.418    0.563\n25         LUDI1@DS  0.494  1.88   0.422    0.559\n26    GlideScore-XP  0.467  1.95   0.376    0.545\n27          Jain@DS  0.457  1.89   0.381    0.527\n28     LigScore1@DS  0.425  1.97   0.344    0.496\n29           PMF@DS  0.422  1.97   0.335    0.502\n30   GoldScore@GOLD  0.416  1.99   0.319    0.503\n31    London-dG@MOE  0.405  1.99   0.326    0.477\n32        PMF@SYBYL  0.262  2.09   0.168    0.345\n33         PMF04@DS  0.212  2.11   0.106    0.306",
      "text/html": "<div>\n<style scoped>\n    .dataframe tbody tr th:only-of-type {\n        vertical-align: middle;\n    }\n\n    .dataframe tbody tr th {\n        vertical-align: top;\n    }\n\n    .dataframe thead th {\n        text-align: right;\n    }\n</style>\n<table border=\"1\" class=\"dataframe\">\n  <thead>\n    <tr style=\"text-align: right;\">\n      <th></th>\n      <th>name</th>\n      <th>r</th>\n      <th>sd</th>\n      <th>left_ci</th>\n      <th>right_ci</th>\n    </tr>\n  </thead>\n  <tbody>\n    <tr>\n      <th>0</th>\n      <td>ΔVinaRF20</td>\n      <td>0.816</td>\n      <td>1.26</td>\n      <td>0.772</td>\n      <td>0.848</td>\n    </tr>\n    <tr>\n      <th>1</th>\n      <td>X-Score</td>\n      <td>0.631</td>\n      <td>1.69</td>\n      <td>0.571</td>\n      <td>0.682</td>\n    </tr>\n    <tr>\n      <th>2</th>\n      <td>X-ScoreHS</td>\n      <td>0.629</td>\n      <td>1.69</td>\n      <td>0.568</td>\n      <td>0.679</td>\n    </tr>\n    <tr>\n      <th>3</th>\n      <td>ΔSAS</td>\n      <td>0.625</td>\n      <td>1.70</td>\n      <td>0.568</td>\n      <td>0.675</td>\n    </tr>\n    <tr>\n      <th>4</th>\n      <td>X-ScoreHP</td>\n      <td>0.621</td>\n      <td>1.70</td>\n      <td>0.560</td>\n      <td>0.675</td>\n    </tr>\n    <tr>\n      <th>5</th>\n      <td>ASP@GOLD</td>\n      <td>0.617</td>\n      <td>1.71</td>\n      <td>0.549</td>\n      <td>0.674</td>\n    </tr>\n    <tr>\n      <th>6</th>\n      <td>ChemPLP@GOLD</td>\n      <td>0.614</td>\n      <td>1.72</td>\n      <td>0.543</td>\n      <td>0.671</td>\n    </tr>\n    <tr>\n      <th>7</th>\n      <td>X-ScoreHM</td>\n      <td>0.609</td>\n      <td>1.73</td>\n      <td>0.545</td>\n      <td>0.662</td>\n    </tr>\n    <tr>\n      <th>8</th>\n      <td>Autodock_Vina</td>\n      <td>0.604</td>\n      <td>1.73</td>\n      <td>0.539</td>\n      <td>0.659</td>\n    </tr>\n    <tr>\n      <th>9</th>\n      <td>DrugScore2018</td>\n      <td>0.602</td>\n      <td>1.74</td>\n      <td>0.542</td>\n      <td>0.655</td>\n    </tr>\n    <tr>\n      <th>10</th>\n      <td>DrugScoreCSD</td>\n      <td>0.596</td>\n      <td>1.75</td>\n      <td>0.533</td>\n      <td>0.649</td>\n    </tr>\n    <tr>\n      <th>11</th>\n      <td>ASE@MOE</td>\n      <td>0.591</td>\n      <td>1.75</td>\n      <td>0.524</td>\n      <td>0.646</td>\n    </tr>\n    <tr>\n      <th>12</th>\n      <td>ChemScore@SYBYL</td>\n      <td>0.590</td>\n      <td>1.76</td>\n      <td>0.513</td>\n      <td>0.651</td>\n    </tr>\n    <tr>\n      <th>13</th>\n      <td>PLP1@DS</td>\n      <td>0.581</td>\n      <td>1.77</td>\n      <td>0.513</td>\n      <td>0.639</td>\n    </tr>\n    <tr>\n      <th>14</th>\n      <td>ChemScore@GOLD</td>\n      <td>0.574</td>\n      <td>1.78</td>\n      <td>0.501</td>\n      <td>0.634</td>\n    </tr>\n    <tr>\n      <th>15</th>\n      <td>G-Score@SYBYL</td>\n      <td>0.572</td>\n      <td>1.79</td>\n      <td>0.504</td>\n      <td>0.634</td>\n    </tr>\n    <tr>\n      <th>16</th>\n      <td>Alpha-HB@MOE</td>\n      <td>0.569</td>\n      <td>1.79</td>\n      <td>0.497</td>\n      <td>0.628</td>\n    </tr>\n    <tr>\n      <th>17</th>\n      <td>PLP2@DS</td>\n      <td>0.563</td>\n      <td>1.80</td>\n      <td>0.495</td>\n      <td>0.624</td>\n    </tr>\n    <tr>\n      <th>18</th>\n      <td>Affinity-dG@MOE</td>\n      <td>0.552</td>\n      <td>1.81</td>\n      <td>0.478</td>\n      <td>0.611</td>\n    </tr>\n    <tr>\n      <th>19</th>\n      <td>LigScore2@DS</td>\n      <td>0.540</td>\n      <td>1.83</td>\n      <td>0.473</td>\n      <td>0.600</td>\n    </tr>\n    <tr>\n      <th>20</th>\n      <td>D-Score@SYBYL</td>\n      <td>0.531</td>\n      <td>1.84</td>\n      <td>0.460</td>\n      <td>0.594</td>\n    </tr>\n    <tr>\n      <th>21</th>\n      <td>LUDI2@DS</td>\n      <td>0.526</td>\n      <td>1.85</td>\n      <td>0.454</td>\n      <td>0.587</td>\n    </tr>\n    <tr>\n      <th>22</th>\n      <td>GlideScore-SP</td>\n      <td>0.513</td>\n      <td>1.89</td>\n      <td>0.434</td>\n      <td>0.580</td>\n    </tr>\n    <tr>\n      <th>23</th>\n      <td>LUDI3@DS</td>\n      <td>0.502</td>\n      <td>1.88</td>\n      <td>0.432</td>\n      <td>0.563</td>\n    </tr>\n    <tr>\n      <th>24</th>\n      <td>GBVI/WSA-dG@MOE</td>\n      <td>0.496</td>\n      <td>1.91</td>\n      <td>0.418</td>\n      <td>0.563</td>\n    </tr>\n    <tr>\n      <th>25</th>\n      <td>LUDI1@DS</td>\n      <td>0.494</td>\n      <td>1.88</td>\n      <td>0.422</td>\n      <td>0.559</td>\n    </tr>\n    <tr>\n      <th>26</th>\n      <td>GlideScore-XP</td>\n      <td>0.467</td>\n      <td>1.95</td>\n      <td>0.376</td>\n      <td>0.545</td>\n    </tr>\n    <tr>\n      <th>27</th>\n      <td>Jain@DS</td>\n      <td>0.457</td>\n      <td>1.89</td>\n      <td>0.381</td>\n      <td>0.527</td>\n    </tr>\n    <tr>\n      <th>28</th>\n      <td>LigScore1@DS</td>\n      <td>0.425</td>\n      <td>1.97</td>\n      <td>0.344</td>\n      <td>0.496</td>\n    </tr>\n    <tr>\n      <th>29</th>\n      <td>PMF@DS</td>\n      <td>0.422</td>\n      <td>1.97</td>\n      <td>0.335</td>\n      <td>0.502</td>\n    </tr>\n    <tr>\n      <th>30</th>\n      <td>GoldScore@GOLD</td>\n      <td>0.416</td>\n      <td>1.99</td>\n      <td>0.319</td>\n      <td>0.503</td>\n    </tr>\n    <tr>\n      <th>31</th>\n      <td>London-dG@MOE</td>\n      <td>0.405</td>\n      <td>1.99</td>\n      <td>0.326</td>\n      <td>0.477</td>\n    </tr>\n    <tr>\n      <th>32</th>\n      <td>PMF@SYBYL</td>\n      <td>0.262</td>\n      <td>2.09</td>\n      <td>0.168</td>\n      <td>0.345</td>\n    </tr>\n    <tr>\n      <th>33</th>\n      <td>PMF04@DS</td>\n      <td>0.212</td>\n      <td>2.11</td>\n      <td>0.106</td>\n      <td>0.306</td>\n    </tr>\n  </tbody>\n</table>\n</div>"
     },
     "execution_count": 1,
     "metadata": {},
     "output_type": "execute_result"
    }
   ],
   "source": [
    "from utils.DataFrameIO.scoring_power_benchmark import get_benchmark\n",
    "bm = get_benchmark()\n",
    "bm"
   ],
   "metadata": {
    "collapsed": false,
    "pycharm": {
     "name": "#%%\n"
    }
   }
  },
  {
   "cell_type": "code",
   "execution_count": null,
   "outputs": [],
   "source": [
    "def show_benchmark():\n",
    "    pass"
   ],
   "metadata": {
    "collapsed": false,
    "pycharm": {
     "name": "#%%\n"
    }
   }
  }
 ],
 "metadata": {
  "kernelspec": {
   "display_name": "Python 3",
   "language": "python",
   "name": "python3"
  },
  "language_info": {
   "codemirror_mode": {
    "name": "ipython",
    "version": 2
   },
   "file_extension": ".py",
   "mimetype": "text/x-python",
   "name": "python",
   "nbconvert_exporter": "python",
   "pygments_lexer": "ipython2",
   "version": "2.7.6"
  }
 },
 "nbformat": 4,
 "nbformat_minor": 0
}